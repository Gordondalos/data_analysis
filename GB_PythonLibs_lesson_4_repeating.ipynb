{
 "cells": [
  {
   "cell_type": "code",
   "execution_count": 1,
   "metadata": {
    "colab": {},
    "colab_type": "code",
    "id": "2Jk6LCHdJmd7"
   },
   "outputs": [],
   "source": [
    "import numpy as np"
   ]
  },
  {
   "cell_type": "markdown",
   "metadata": {
    "colab_type": "text",
    "id": "PmYQ_gnAKzZk"
   },
   "source": [
    "Задание 1"
   ]
  },
  {
   "cell_type": "code",
   "execution_count": 2,
   "metadata": {
    "colab": {
     "base_uri": "https://localhost:8080/",
     "height": 34
    },
    "colab_type": "code",
    "executionInfo": {
     "elapsed": 967,
     "status": "ok",
     "timestamp": 1589559875549,
     "user": {
      "displayName": "Тарас Квитко",
      "photoUrl": "https://lh3.googleusercontent.com/a-/AOh14GjLP9GfiNSLAREzD7OvwZMW6wO991secxbYHStB=s64",
      "userId": "17528970072518703139"
     },
     "user_tz": -180
    },
    "id": "yqerGmfEJeRE",
    "outputId": "4ca3363e-cc3d-47fb-beba-edbeda99afee"
   },
   "outputs": [
    {
     "data": {
      "text/plain": [
       "array([12, 13, 14, 15, 16, 17, 18, 19, 20, 21, 22, 23])"
      ]
     },
     "execution_count": 2,
     "metadata": {},
     "output_type": "execute_result"
    }
   ],
   "source": [
    "a = np.array([12, 13, 14, 15, 16, 17, 18, 19, 20, 21, 22, 23])\n",
    "a"
   ]
  },
  {
   "cell_type": "markdown",
   "metadata": {
    "colab_type": "text",
    "id": "sjJAT7nuK2Eh"
   },
   "source": [
    "Задание 2"
   ]
  },
  {
   "cell_type": "code",
   "execution_count": 3,
   "metadata": {
    "colab": {
     "base_uri": "https://localhost:8080/",
     "height": 68
    },
    "colab_type": "code",
    "executionInfo": {
     "elapsed": 3760,
     "status": "ok",
     "timestamp": 1589559943167,
     "user": {
      "displayName": "Тарас Квитко",
      "photoUrl": "https://lh3.googleusercontent.com/a-/AOh14GjLP9GfiNSLAREzD7OvwZMW6wO991secxbYHStB=s64",
      "userId": "17528970072518703139"
     },
     "user_tz": -180
    },
    "id": "vqjLFvt5Jv74",
    "outputId": "b34d86b3-a077-4400-f3c9-2b01475f4f28"
   },
   "outputs": [
    {
     "data": {
      "text/plain": [
       "array([[12, 13, 14, 15],\n",
       "       [16, 17, 18, 19],\n",
       "       [20, 21, 22, 23]])"
      ]
     },
     "execution_count": 3,
     "metadata": {},
     "output_type": "execute_result"
    }
   ],
   "source": [
    "a1 = a.reshape(3, 4)\n",
    "a1\n"
   ]
  },
  {
   "cell_type": "code",
   "execution_count": 4,
   "metadata": {
    "colab": {
     "base_uri": "https://localhost:8080/",
     "height": 85
    },
    "colab_type": "code",
    "executionInfo": {
     "elapsed": 777,
     "status": "ok",
     "timestamp": 1589559948222,
     "user": {
      "displayName": "Тарас Квитко",
      "photoUrl": "https://lh3.googleusercontent.com/a-/AOh14GjLP9GfiNSLAREzD7OvwZMW6wO991secxbYHStB=s64",
      "userId": "17528970072518703139"
     },
     "user_tz": -180
    },
    "id": "UTsAjELZJ-H2",
    "outputId": "692db5b5-0663-4c16-d0b8-191d16f0d66a"
   },
   "outputs": [
    {
     "data": {
      "text/plain": [
       "array([[12, 13, 14],\n",
       "       [15, 16, 17],\n",
       "       [18, 19, 20],\n",
       "       [21, 22, 23]])"
      ]
     },
     "execution_count": 4,
     "metadata": {},
     "output_type": "execute_result"
    }
   ],
   "source": [
    "a2 = a.reshape(4, 3)\n",
    "a2\n"
   ]
  },
  {
   "cell_type": "code",
   "execution_count": 5,
   "metadata": {
    "colab": {
     "base_uri": "https://localhost:8080/",
     "height": 221
    },
    "colab_type": "code",
    "executionInfo": {
     "elapsed": 780,
     "status": "ok",
     "timestamp": 1589559955270,
     "user": {
      "displayName": "Тарас Квитко",
      "photoUrl": "https://lh3.googleusercontent.com/a-/AOh14GjLP9GfiNSLAREzD7OvwZMW6wO991secxbYHStB=s64",
      "userId": "17528970072518703139"
     },
     "user_tz": -180
    },
    "id": "SQtzb289J_1X",
    "outputId": "76dbc98c-1a67-409a-c592-67590f42f70f"
   },
   "outputs": [
    {
     "data": {
      "text/plain": [
       "array([[12],\n",
       "       [13],\n",
       "       [14],\n",
       "       [15],\n",
       "       [16],\n",
       "       [17],\n",
       "       [18],\n",
       "       [19],\n",
       "       [20],\n",
       "       [21],\n",
       "       [22],\n",
       "       [23]])"
      ]
     },
     "execution_count": 5,
     "metadata": {},
     "output_type": "execute_result"
    }
   ],
   "source": [
    "a3 = a.reshape(12, 1)\n",
    "a3\n"
   ]
  },
  {
   "cell_type": "code",
   "execution_count": 6,
   "metadata": {
    "colab": {
     "base_uri": "https://localhost:8080/",
     "height": 51
    },
    "colab_type": "code",
    "executionInfo": {
     "elapsed": 884,
     "status": "ok",
     "timestamp": 1589559965352,
     "user": {
      "displayName": "Тарас Квитко",
      "photoUrl": "https://lh3.googleusercontent.com/a-/AOh14GjLP9GfiNSLAREzD7OvwZMW6wO991secxbYHStB=s64",
      "userId": "17528970072518703139"
     },
     "user_tz": -180
    },
    "id": "l-3Qzy8BKCHd",
    "outputId": "de56bb0d-7450-4e33-ec95-33222dd76334"
   },
   "outputs": [
    {
     "data": {
      "text/plain": [
       "array([[12, 13, 14, 15, 16, 17],\n",
       "       [18, 19, 20, 21, 22, 23]])"
      ]
     },
     "execution_count": 6,
     "metadata": {},
     "output_type": "execute_result"
    }
   ],
   "source": [
    "a4 = a.reshape(2, 6)\n",
    "a4"
   ]
  },
  {
   "cell_type": "code",
   "execution_count": 7,
   "metadata": {
    "colab": {
     "base_uri": "https://localhost:8080/",
     "height": 119
    },
    "colab_type": "code",
    "executionInfo": {
     "elapsed": 853,
     "status": "ok",
     "timestamp": 1589559972184,
     "user": {
      "displayName": "Тарас Квитко",
      "photoUrl": "https://lh3.googleusercontent.com/a-/AOh14GjLP9GfiNSLAREzD7OvwZMW6wO991secxbYHStB=s64",
      "userId": "17528970072518703139"
     },
     "user_tz": -180
    },
    "id": "V4R2sJhmKES2",
    "outputId": "16981c16-1bbf-45e4-c7cc-e34275ebe4c9"
   },
   "outputs": [
    {
     "data": {
      "text/plain": [
       "array([[12, 13],\n",
       "       [14, 15],\n",
       "       [16, 17],\n",
       "       [18, 19],\n",
       "       [20, 21],\n",
       "       [22, 23]])"
      ]
     },
     "execution_count": 7,
     "metadata": {},
     "output_type": "execute_result"
    }
   ],
   "source": [
    "a5 = a.reshape(6,2)\n",
    "a5"
   ]
  },
  {
   "cell_type": "markdown",
   "metadata": {
    "colab_type": "text",
    "id": "Cax2YypIK4tJ"
   },
   "source": [
    "Задание 3"
   ]
  },
  {
   "cell_type": "code",
   "execution_count": 8,
   "metadata": {
    "colab": {
     "base_uri": "https://localhost:8080/",
     "height": 51
    },
    "colab_type": "code",
    "executionInfo": {
     "elapsed": 811,
     "status": "ok",
     "timestamp": 1589560065457,
     "user": {
      "displayName": "Тарас Квитко",
      "photoUrl": "https://lh3.googleusercontent.com/a-/AOh14GjLP9GfiNSLAREzD7OvwZMW6wO991secxbYHStB=s64",
      "userId": "17528970072518703139"
     },
     "user_tz": -180
    },
    "id": "XRlTiH2XKQ4D",
    "outputId": "3be4ba03-cac7-4e89-c73d-4397f6a912c8"
   },
   "outputs": [
    {
     "data": {
      "text/plain": [
       "array([[12, 13, 14, 15, 16, 17],\n",
       "       [18, 19, 20, 21, 22, 23]])"
      ]
     },
     "execution_count": 8,
     "metadata": {},
     "output_type": "execute_result"
    }
   ],
   "source": [
    "a.reshape(-1, 6)"
   ]
  },
  {
   "cell_type": "code",
   "execution_count": 9,
   "metadata": {
    "colab": {
     "base_uri": "https://localhost:8080/",
     "height": 85
    },
    "colab_type": "code",
    "executionInfo": {
     "elapsed": 782,
     "status": "ok",
     "timestamp": 1589560087924,
     "user": {
      "displayName": "Тарас Квитко",
      "photoUrl": "https://lh3.googleusercontent.com/a-/AOh14GjLP9GfiNSLAREzD7OvwZMW6wO991secxbYHStB=s64",
      "userId": "17528970072518703139"
     },
     "user_tz": -180
    },
    "id": "GYB-bZftKfvo",
    "outputId": "880b9fc7-1f1e-49cc-f8b4-5a8b420d74fe"
   },
   "outputs": [
    {
     "data": {
      "text/plain": [
       "array([[12, 13, 14],\n",
       "       [15, 16, 17],\n",
       "       [18, 19, 20],\n",
       "       [21, 22, 23]])"
      ]
     },
     "execution_count": 9,
     "metadata": {},
     "output_type": "execute_result"
    }
   ],
   "source": [
    "a.reshape(-1, 3)"
   ]
  },
  {
   "cell_type": "code",
   "execution_count": 10,
   "metadata": {
    "colab": {
     "base_uri": "https://localhost:8080/",
     "height": 119
    },
    "colab_type": "code",
    "executionInfo": {
     "elapsed": 884,
     "status": "ok",
     "timestamp": 1589560094869,
     "user": {
      "displayName": "Тарас Квитко",
      "photoUrl": "https://lh3.googleusercontent.com/a-/AOh14GjLP9GfiNSLAREzD7OvwZMW6wO991secxbYHStB=s64",
      "userId": "17528970072518703139"
     },
     "user_tz": -180
    },
    "id": "xO782Q9DKh-w",
    "outputId": "bd12d007-7452-4a7e-ba6e-729e0a32f865"
   },
   "outputs": [
    {
     "data": {
      "text/plain": [
       "array([[12, 13],\n",
       "       [14, 15],\n",
       "       [16, 17],\n",
       "       [18, 19],\n",
       "       [20, 21],\n",
       "       [22, 23]])"
      ]
     },
     "execution_count": 10,
     "metadata": {},
     "output_type": "execute_result"
    }
   ],
   "source": [
    "a.reshape(-1, 2)"
   ]
  },
  {
   "cell_type": "code",
   "execution_count": 11,
   "metadata": {
    "colab": {
     "base_uri": "https://localhost:8080/",
     "height": 68
    },
    "colab_type": "code",
    "executionInfo": {
     "elapsed": 1035,
     "status": "ok",
     "timestamp": 1589560124328,
     "user": {
      "displayName": "Тарас Квитко",
      "photoUrl": "https://lh3.googleusercontent.com/a-/AOh14GjLP9GfiNSLAREzD7OvwZMW6wO991secxbYHStB=s64",
      "userId": "17528970072518703139"
     },
     "user_tz": -180
    },
    "id": "Im4q_YCZKjyH",
    "outputId": "139ff8c7-dd80-43c8-f805-00603c1b8445"
   },
   "outputs": [
    {
     "data": {
      "text/plain": [
       "array([[12, 13, 14, 15],\n",
       "       [16, 17, 18, 19],\n",
       "       [20, 21, 22, 23]])"
      ]
     },
     "execution_count": 11,
     "metadata": {},
     "output_type": "execute_result"
    }
   ],
   "source": [
    "a.reshape(3, -1)"
   ]
  },
  {
   "cell_type": "code",
   "execution_count": 12,
   "metadata": {
    "colab": {
     "base_uri": "https://localhost:8080/",
     "height": 221
    },
    "colab_type": "code",
    "executionInfo": {
     "elapsed": 682,
     "status": "ok",
     "timestamp": 1589560143791,
     "user": {
      "displayName": "Тарас Квитко",
      "photoUrl": "https://lh3.googleusercontent.com/a-/AOh14GjLP9GfiNSLAREzD7OvwZMW6wO991secxbYHStB=s64",
      "userId": "17528970072518703139"
     },
     "user_tz": -180
    },
    "id": "fga8b7QkKr0x",
    "outputId": "854a8c5e-1856-4f32-ce1d-25a4d26f874b"
   },
   "outputs": [
    {
     "data": {
      "text/plain": [
       "array([[12],\n",
       "       [13],\n",
       "       [14],\n",
       "       [15],\n",
       "       [16],\n",
       "       [17],\n",
       "       [18],\n",
       "       [19],\n",
       "       [20],\n",
       "       [21],\n",
       "       [22],\n",
       "       [23]])"
      ]
     },
     "execution_count": 12,
     "metadata": {},
     "output_type": "execute_result"
    }
   ],
   "source": [
    "a.reshape(12, -1)"
   ]
  },
  {
   "cell_type": "markdown",
   "metadata": {
    "colab_type": "text",
    "id": "fBS1aTXtK-XB"
   },
   "source": [
    "Задание 4. Думаю, что нет. Стобцы и строки это уже2 измерения."
   ]
  },
  {
   "cell_type": "markdown",
   "metadata": {},
   "source": [
    "Задание 5"
   ]
  },
  {
   "cell_type": "code",
   "execution_count": 23,
   "metadata": {},
   "outputs": [
    {
     "name": "stdout",
     "output_type": "stream",
     "text": [
      "[[-1.23728271  0.33742908  0.22732884  0.04031066]\n",
      " [ 0.83851844 -1.43334417  0.88374866 -1.3189744 ]\n",
      " [-0.55973565  0.29298052 -0.56570093  1.8206275 ]]\n",
      "[-1.23728271  0.33742908  0.22732884  0.04031066  0.83851844 -1.43334417\n",
      "  0.88374866 -1.3189744  -0.55973565  0.29298052 -0.56570093  1.8206275 ]\n"
     ]
    }
   ],
   "source": [
    "a = np.random.randn(3, 4)\n",
    "print(a)\n",
    "print(a.flatten())"
   ]
  },
  {
   "cell_type": "markdown",
   "metadata": {},
   "source": [
    "Задание 6"
   ]
  },
  {
   "cell_type": "code",
   "execution_count": 32,
   "metadata": {},
   "outputs": [
    {
     "name": "stdout",
     "output_type": "stream",
     "text": [
      "[20 18 16 14 12 10  8  6  4  2]\n"
     ]
    }
   ],
   "source": [
    "c = np.arange(20, 0, -2)\n",
    "\n",
    "print(c)"
   ]
  },
  {
   "cell_type": "markdown",
   "metadata": {},
   "source": [
    "Задание 7"
   ]
  },
  {
   "cell_type": "code",
   "execution_count": 45,
   "metadata": {},
   "outputs": [
    {
     "name": "stdout",
     "output_type": "stream",
     "text": [
      "[[20 18 16 14 12 10  8  6  4  2]]\n"
     ]
    }
   ],
   "source": [
    "c = np.arange(20, 0, -2)\n",
    "print(c.reshape(1, -1))"
   ]
  },
  {
   "cell_type": "code",
   "execution_count": null,
   "metadata": {},
   "outputs": [],
   "source": [
    "Задание 8"
   ]
  },
  {
   "cell_type": "code",
   "execution_count": 55,
   "metadata": {},
   "outputs": [
    {
     "name": "stdout",
     "output_type": "stream",
     "text": [
      "[[0. 0.]\n",
      " [0. 0.]\n",
      " [1. 1.]\n",
      " [1. 1.]\n",
      " [1. 1.]]\n"
     ]
    },
    {
     "data": {
      "text/plain": [
       "10"
      ]
     },
     "execution_count": 55,
     "metadata": {},
     "output_type": "execute_result"
    }
   ],
   "source": [
    "a = np.zeros((2, 2))\n",
    "b = np.ones((3, 2))\n",
    "c = np.vstack((a, b))\n",
    "print(c)\n",
    "c.size"
   ]
  },
  {
   "cell_type": "markdown",
   "metadata": {},
   "source": [
    "Задание 9"
   ]
  },
  {
   "cell_type": "code",
   "execution_count": 93,
   "metadata": {},
   "outputs": [
    {
     "name": "stdout",
     "output_type": "stream",
     "text": [
      "[[ 14  32  50  68]\n",
      " [ 32  77 122 167]\n",
      " [ 50 122 194 266]\n",
      " [ 68 167 266 365]]\n",
      "[[ 9.35339320e+13 -1.89435812e+12 -2.76813080e+14  1.85173506e+14]\n",
      " [-6.76285848e+14  7.89000156e+14  4.50857232e+14 -5.63571540e+14]\n",
      " [ 1.07196990e+15 -1.57231724e+15 -7.12752241e+13  5.71622562e+14]\n",
      " [-4.89217984e+14  7.85211439e+14 -1.02768928e+14 -1.93224528e+14]]\n"
     ]
    }
   ],
   "source": [
    "a = np.arange(1, 13)\n",
    "A = a.reshape(4, 3)\n",
    "B = A.dot(A.T)\n",
    "print(B)\n",
    "C = np.linalg.inv(B)\n",
    "print(C)"
   ]
  },
  {
   "cell_type": "markdown",
   "metadata": {},
   "source": [
    "...а почему нет? :)"
   ]
  },
  {
   "cell_type": "markdown",
   "metadata": {},
   "source": [
    "Задание 10"
   ]
  },
  {
   "cell_type": "code",
   "execution_count": 78,
   "metadata": {},
   "outputs": [],
   "source": [
    "np.random.seed(seed=42)"
   ]
  },
  {
   "cell_type": "markdown",
   "metadata": {},
   "source": [
    "Задание 11"
   ]
  },
  {
   "cell_type": "code",
   "execution_count": 83,
   "metadata": {},
   "outputs": [
    {
     "name": "stdout",
     "output_type": "stream",
     "text": [
      "[ 4  0 11  9  5 12 11  8  0 10 10 14  9 15 11 11]\n"
     ]
    }
   ],
   "source": [
    "c = np.random.randint(0, 16, (16))\n",
    "print(c)"
   ]
  },
  {
   "cell_type": "markdown",
   "metadata": {},
   "source": [
    "Задание 12"
   ]
  },
  {
   "cell_type": "code",
   "execution_count": 90,
   "metadata": {},
   "outputs": [
    {
     "name": "stdout",
     "output_type": "stream",
     "text": [
      "[[ 4  0 11  9]\n",
      " [ 5 12 11  8]\n",
      " [ 0 10 10 14]\n",
      " [ 9 15 11 11]]\n",
      "[[ 54  32 160 158]\n",
      " [ 82 197 232 247]\n",
      " [ 50 222 294 406]\n",
      " [158 317 376 475]]\n"
     ]
    }
   ],
   "source": [
    "C = c.reshape(4, -1)\n",
    "print(C)\n",
    "D = B + C*10\n",
    "print(D)"
   ]
  },
  {
   "cell_type": "code",
   "execution_count": 95,
   "metadata": {},
   "outputs": [
    {
     "name": "stdout",
     "output_type": "stream",
     "text": [
      "154521600.00000027\n"
     ]
    }
   ],
   "source": [
    "d = np.linalg.det(D)\n",
    "print(d)"
   ]
  },
  {
   "cell_type": "code",
   "execution_count": 96,
   "metadata": {},
   "outputs": [
    {
     "name": "stdout",
     "output_type": "stream",
     "text": [
      "4\n"
     ]
    }
   ],
   "source": [
    "r = np.linalg.matrix_rank(D)\n",
    "print(r)"
   ]
  },
  {
   "cell_type": "code",
   "execution_count": 97,
   "metadata": {},
   "outputs": [
    {
     "name": "stdout",
     "output_type": "stream",
     "text": [
      "[[ 0.00278252 -0.01143801 -0.01168924  0.01501344]\n",
      " [-0.00955077  0.00901065 -0.00017913 -0.00135554]\n",
      " [ 0.00843196  0.01941851  0.00010665 -0.01299352]\n",
      " [-0.00122624 -0.01758007  0.00392333  0.00830136]]\n"
     ]
    }
   ],
   "source": [
    "D_inv = np.linalg.inv(D)\n",
    "\n",
    "print(D_inv)"
   ]
  },
  {
   "cell_type": "markdown",
   "metadata": {},
   "source": [
    "Задание 13"
   ]
  },
  {
   "cell_type": "code",
   "execution_count": 121,
   "metadata": {},
   "outputs": [
    {
     "name": "stdout",
     "output_type": "stream",
     "text": [
      "[[ True False False  True]\n",
      " [False  True False False]\n",
      " [ True  True  True False]\n",
      " [False False  True  True]]\n",
      "[[1. 0. 0. 1.]\n",
      " [0. 1. 0. 0.]\n",
      " [1. 1. 1. 0.]\n",
      " [0. 0. 1. 1.]]\n"
     ]
    }
   ],
   "source": [
    "T = (D_inv > 0)\n",
    "print(T)\n",
    "\n",
    "N = np.zeros((4, 4))\n",
    "for i in range(len(T)):\n",
    "    for j in range(len(T[i])):\n",
    "        if T[i][j] == True:\n",
    "            N[i][j] = 1\n",
    "        else:\n",
    "            N[i][j] = 0\n",
    "print(N)"
   ]
  },
  {
   "cell_type": "code",
   "execution_count": 128,
   "metadata": {},
   "outputs": [
    {
     "name": "stdout",
     "output_type": "stream",
     "text": [
      "(array([0, 0, 1, 1, 1, 2, 3, 3]), array([1, 2, 0, 2, 3, 3, 0, 1]))\n",
      "(array([0, 0, 1, 2, 2, 2, 3, 3]), array([0, 3, 1, 0, 1, 2, 2, 3]))\n",
      "[[ 1.40000000e+01 -1.89435812e+12 -2.76813080e+14  6.80000000e+01]\n",
      " [-6.76285848e+14  7.70000000e+01  4.50857232e+14 -5.63571540e+14]\n",
      " [ 5.00000000e+01  1.22000000e+02  1.94000000e+02  5.71622562e+14]\n",
      " [-4.89217984e+14  7.85211439e+14  2.66000000e+02  3.65000000e+02]]\n"
     ]
    }
   ],
   "source": [
    "ind0 = np.where(N == 0)\n",
    "print(ind0)\n",
    "ind1 = np.where(N == 1)\n",
    "print(ind1)\n",
    "\n",
    "# Как сделать дальше, не  понимаю :(\n",
    "# Написал обычным питоном\n",
    "\n",
    "E = np.zeros((4, 4))\n",
    "for i in range(len(E)):\n",
    "    for j in range(len(E[i])):\n",
    "        if N[i][j] == 1:\n",
    "            E[i][j] = B[i][j]\n",
    "        else:\n",
    "            E[i][j] = C[i][j]\n",
    "            \n",
    "print(E)"
   ]
  }
 ],
 "metadata": {
  "colab": {
   "authorship_tag": "ABX9TyPbG5zc3AbhnUCFOlKrZ66/",
   "collapsed_sections": [],
   "name": "GB_PythonLibs_lesson_4_repeating.ipynb",
   "provenance": []
  },
  "kernelspec": {
   "display_name": "Python 3",
   "language": "python",
   "name": "python3"
  },
  "language_info": {
   "codemirror_mode": {
    "name": "ipython",
    "version": 3
   },
   "file_extension": ".py",
   "mimetype": "text/x-python",
   "name": "python",
   "nbconvert_exporter": "python",
   "pygments_lexer": "ipython3",
   "version": "3.7.6"
  }
 },
 "nbformat": 4,
 "nbformat_minor": 1
}

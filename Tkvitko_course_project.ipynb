{
 "cells": [
  {
   "cell_type": "markdown",
   "metadata": {
    "colab_type": "text",
    "id": "l0jQ99bneMhz"
   },
   "source": [
    "**Подключение библиотек и скриптов**\n"
   ]
  },
  {
   "cell_type": "code",
   "execution_count": 1,
   "metadata": {
    "colab": {},
    "colab_type": "code",
    "id": "GWZR2PcfeNib"
   },
   "outputs": [],
   "source": [
    "import numpy as np\n",
    "import pandas as pd\n",
    "import io"
   ]
  },
  {
   "cell_type": "markdown",
   "metadata": {
    "colab_type": "text",
    "id": "UV-laXHleS9D"
   },
   "source": [
    "**Загрузка файла**"
   ]
  },
  {
   "cell_type": "markdown",
   "metadata": {
    "colab_type": "text",
    "id": "YdHVj7XZe_V3"
   },
   "source": [
    "### Загрузка данных\n",
    "Описание датасета:\n",
    "* Id - идентификационный номер квартиры\n",
    "* DistrictId - идентификационный номер района\n",
    "* Rooms - количество комнат\n",
    "* Square - площадь\n",
    "* LifeSquare - жилая площадь\n",
    "* KitchenSquare - площадь кухни\n",
    "* Floor - этаж\n",
    "* HouseFloor - количество этажей в доме\n",
    "* HouseYear - год постройки дома\n",
    "* Ecology_1, Ecology_2, Ecology_3 - экологические показатели местности\n",
    "* Social_1, Social_2, Social_3 - социальные показатели местности\n",
    "* Healthcare_1, Helthcare_2 - показатели местности, связанные с охраной здоровья\n",
    "* Shops_1, Shops_2 - показатели, связанные с наличием магазинов, торговых центров\n",
    "* Price - цена квартиры"
   ]
  },
  {
   "cell_type": "code",
   "execution_count": 4,
   "metadata": {
    "colab": {
     "base_uri": "https://localhost:8080/",
     "height": 224
    },
    "colab_type": "code",
    "executionInfo": {
     "elapsed": 1193,
     "status": "ok",
     "timestamp": 1589561214678,
     "user": {
      "displayName": "Тарас Квитко",
      "photoUrl": "https://lh3.googleusercontent.com/a-/AOh14GjLP9GfiNSLAREzD7OvwZMW6wO991secxbYHStB=s64",
      "userId": "17528970072518703139"
     },
     "user_tz": -180
    },
    "id": "dYehjyJYfADW",
    "outputId": "546d14c5-7978-4a4d-da8c-8af63129879d"
   },
   "outputs": [
    {
     "data": {
      "text/html": [
       "<div>\n",
       "<style scoped>\n",
       "    .dataframe tbody tr th:only-of-type {\n",
       "        vertical-align: middle;\n",
       "    }\n",
       "\n",
       "    .dataframe tbody tr th {\n",
       "        vertical-align: top;\n",
       "    }\n",
       "\n",
       "    .dataframe thead th {\n",
       "        text-align: right;\n",
       "    }\n",
       "</style>\n",
       "<table border=\"1\" class=\"dataframe\">\n",
       "  <thead>\n",
       "    <tr style=\"text-align: right;\">\n",
       "      <th></th>\n",
       "      <th>Id</th>\n",
       "      <th>DistrictId</th>\n",
       "      <th>Rooms</th>\n",
       "      <th>Square</th>\n",
       "      <th>LifeSquare</th>\n",
       "      <th>KitchenSquare</th>\n",
       "      <th>Floor</th>\n",
       "      <th>HouseFloor</th>\n",
       "      <th>HouseYear</th>\n",
       "      <th>Ecology_1</th>\n",
       "      <th>Ecology_2</th>\n",
       "      <th>Ecology_3</th>\n",
       "      <th>Social_1</th>\n",
       "      <th>Social_2</th>\n",
       "      <th>Social_3</th>\n",
       "      <th>Healthcare_1</th>\n",
       "      <th>Helthcare_2</th>\n",
       "      <th>Shops_1</th>\n",
       "      <th>Shops_2</th>\n",
       "      <th>Price</th>\n",
       "    </tr>\n",
       "  </thead>\n",
       "  <tbody>\n",
       "    <tr>\n",
       "      <th>0</th>\n",
       "      <td>14038</td>\n",
       "      <td>35</td>\n",
       "      <td>2.0</td>\n",
       "      <td>47.981561</td>\n",
       "      <td>29.442751</td>\n",
       "      <td>6.0</td>\n",
       "      <td>7</td>\n",
       "      <td>9.0</td>\n",
       "      <td>1969</td>\n",
       "      <td>0.089040</td>\n",
       "      <td>B</td>\n",
       "      <td>B</td>\n",
       "      <td>33</td>\n",
       "      <td>7976</td>\n",
       "      <td>5</td>\n",
       "      <td>NaN</td>\n",
       "      <td>0</td>\n",
       "      <td>11</td>\n",
       "      <td>B</td>\n",
       "      <td>184966.930730</td>\n",
       "    </tr>\n",
       "    <tr>\n",
       "      <th>1</th>\n",
       "      <td>15053</td>\n",
       "      <td>41</td>\n",
       "      <td>3.0</td>\n",
       "      <td>65.683640</td>\n",
       "      <td>40.049543</td>\n",
       "      <td>8.0</td>\n",
       "      <td>7</td>\n",
       "      <td>9.0</td>\n",
       "      <td>1978</td>\n",
       "      <td>0.000070</td>\n",
       "      <td>B</td>\n",
       "      <td>B</td>\n",
       "      <td>46</td>\n",
       "      <td>10309</td>\n",
       "      <td>1</td>\n",
       "      <td>240.0</td>\n",
       "      <td>1</td>\n",
       "      <td>16</td>\n",
       "      <td>B</td>\n",
       "      <td>300009.450063</td>\n",
       "    </tr>\n",
       "    <tr>\n",
       "      <th>2</th>\n",
       "      <td>4765</td>\n",
       "      <td>53</td>\n",
       "      <td>2.0</td>\n",
       "      <td>44.947953</td>\n",
       "      <td>29.197612</td>\n",
       "      <td>0.0</td>\n",
       "      <td>8</td>\n",
       "      <td>12.0</td>\n",
       "      <td>1968</td>\n",
       "      <td>0.049637</td>\n",
       "      <td>B</td>\n",
       "      <td>B</td>\n",
       "      <td>34</td>\n",
       "      <td>7759</td>\n",
       "      <td>0</td>\n",
       "      <td>229.0</td>\n",
       "      <td>1</td>\n",
       "      <td>3</td>\n",
       "      <td>B</td>\n",
       "      <td>220925.908524</td>\n",
       "    </tr>\n",
       "    <tr>\n",
       "      <th>3</th>\n",
       "      <td>5809</td>\n",
       "      <td>58</td>\n",
       "      <td>2.0</td>\n",
       "      <td>53.352981</td>\n",
       "      <td>52.731512</td>\n",
       "      <td>9.0</td>\n",
       "      <td>8</td>\n",
       "      <td>17.0</td>\n",
       "      <td>1977</td>\n",
       "      <td>0.437885</td>\n",
       "      <td>B</td>\n",
       "      <td>B</td>\n",
       "      <td>23</td>\n",
       "      <td>5735</td>\n",
       "      <td>3</td>\n",
       "      <td>1084.0</td>\n",
       "      <td>0</td>\n",
       "      <td>5</td>\n",
       "      <td>B</td>\n",
       "      <td>175616.227217</td>\n",
       "    </tr>\n",
       "    <tr>\n",
       "      <th>4</th>\n",
       "      <td>10783</td>\n",
       "      <td>99</td>\n",
       "      <td>1.0</td>\n",
       "      <td>39.649192</td>\n",
       "      <td>23.776169</td>\n",
       "      <td>7.0</td>\n",
       "      <td>11</td>\n",
       "      <td>12.0</td>\n",
       "      <td>1976</td>\n",
       "      <td>0.012339</td>\n",
       "      <td>B</td>\n",
       "      <td>B</td>\n",
       "      <td>35</td>\n",
       "      <td>5776</td>\n",
       "      <td>1</td>\n",
       "      <td>2078.0</td>\n",
       "      <td>2</td>\n",
       "      <td>4</td>\n",
       "      <td>B</td>\n",
       "      <td>150226.531644</td>\n",
       "    </tr>\n",
       "  </tbody>\n",
       "</table>\n",
       "</div>"
      ],
      "text/plain": [
       "      Id  DistrictId  Rooms     Square  LifeSquare  KitchenSquare  Floor  \\\n",
       "0  14038          35    2.0  47.981561   29.442751            6.0      7   \n",
       "1  15053          41    3.0  65.683640   40.049543            8.0      7   \n",
       "2   4765          53    2.0  44.947953   29.197612            0.0      8   \n",
       "3   5809          58    2.0  53.352981   52.731512            9.0      8   \n",
       "4  10783          99    1.0  39.649192   23.776169            7.0     11   \n",
       "\n",
       "   HouseFloor  HouseYear  Ecology_1 Ecology_2 Ecology_3  Social_1  Social_2  \\\n",
       "0         9.0       1969   0.089040         B         B        33      7976   \n",
       "1         9.0       1978   0.000070         B         B        46     10309   \n",
       "2        12.0       1968   0.049637         B         B        34      7759   \n",
       "3        17.0       1977   0.437885         B         B        23      5735   \n",
       "4        12.0       1976   0.012339         B         B        35      5776   \n",
       "\n",
       "   Social_3  Healthcare_1  Helthcare_2  Shops_1 Shops_2          Price  \n",
       "0         5           NaN            0       11       B  184966.930730  \n",
       "1         1         240.0            1       16       B  300009.450063  \n",
       "2         0         229.0            1        3       B  220925.908524  \n",
       "3         3        1084.0            0        5       B  175616.227217  \n",
       "4         1        2078.0            2        4       B  150226.531644  "
      ]
     },
     "execution_count": 4,
     "metadata": {},
     "output_type": "execute_result"
    }
   ],
   "source": [
    "DATASET_PATH = 'train.csv'\n",
    "df = pd.read_csv(DATASET_PATH)\n",
    "df.head()"
   ]
  },
  {
   "cell_type": "code",
   "execution_count": 5,
   "metadata": {
    "colab": {
     "base_uri": "https://localhost:8080/",
     "height": 34
    },
    "colab_type": "code",
    "executionInfo": {
     "elapsed": 649,
     "status": "ok",
     "timestamp": 1589532128666,
     "user": {
      "displayName": "Тарас Квитко",
      "photoUrl": "https://lh3.googleusercontent.com/a-/AOh14GjLP9GfiNSLAREzD7OvwZMW6wO991secxbYHStB=s64",
      "userId": "17528970072518703139"
     },
     "user_tz": -180
    },
    "id": "Yo3LmQkFf2xs",
    "outputId": "7802c25c-3a6c-46d1-de0d-8ca62de466dc"
   },
   "outputs": [
    {
     "data": {
      "text/plain": [
       "(10000, 20)"
      ]
     },
     "execution_count": 5,
     "metadata": {},
     "output_type": "execute_result"
    }
   ],
   "source": [
    "df.shape"
   ]
  },
  {
   "cell_type": "markdown",
   "metadata": {
    "colab_type": "text",
    "id": "XQH685FGgB5N"
   },
   "source": [
    "### Получение информации о данных"
   ]
  },
  {
   "cell_type": "code",
   "execution_count": 0,
   "metadata": {
    "colab": {
     "base_uri": "https://localhost:8080/",
     "height": 459
    },
    "colab_type": "code",
    "executionInfo": {
     "elapsed": 720,
     "status": "ok",
     "timestamp": 1589536299010,
     "user": {
      "displayName": "Тарас Квитко",
      "photoUrl": "https://lh3.googleusercontent.com/a-/AOh14GjLP9GfiNSLAREzD7OvwZMW6wO991secxbYHStB=s64",
      "userId": "17528970072518703139"
     },
     "user_tz": -180
    },
    "id": "EonfEsWGgCj3",
    "outputId": "aa08864d-c1d7-4bcf-e947-93f240e39948"
   },
   "outputs": [
    {
     "name": "stdout",
     "output_type": "stream",
     "text": [
      "<class 'pandas.core.frame.DataFrame'>\n",
      "Int64Index: 10000 entries, 14038 to 6306\n",
      "Data columns (total 19 columns):\n",
      " #   Column         Non-Null Count  Dtype  \n",
      "---  ------         --------------  -----  \n",
      " 0   DistrictId     10000 non-null  int64  \n",
      " 1   Rooms          10000 non-null  float64\n",
      " 2   Square         10000 non-null  float64\n",
      " 3   LifeSquare     7887 non-null   float64\n",
      " 4   KitchenSquare  10000 non-null  float64\n",
      " 5   Floor          10000 non-null  int64  \n",
      " 6   HouseFloor     10000 non-null  float64\n",
      " 7   HouseYear      10000 non-null  int64  \n",
      " 8   Ecology_1      10000 non-null  float64\n",
      " 9   Ecology_2      10000 non-null  int64  \n",
      " 10  Ecology_3      10000 non-null  int64  \n",
      " 11  Social_1       10000 non-null  int64  \n",
      " 12  Social_2       10000 non-null  int64  \n",
      " 13  Social_3       10000 non-null  int64  \n",
      " 14  Healthcare_1   5202 non-null   float64\n",
      " 15  Helthcare_2    10000 non-null  int64  \n",
      " 16  Shops_1        10000 non-null  int64  \n",
      " 17  Shops_2        10000 non-null  int64  \n",
      " 18  Price          10000 non-null  float64\n",
      "dtypes: float64(8), int64(11)\n",
      "memory usage: 1.5 MB\n"
     ]
    }
   ],
   "source": [
    "df.info()"
   ]
  },
  {
   "cell_type": "code",
   "execution_count": 0,
   "metadata": {
    "colab": {
     "base_uri": "https://localhost:8080/",
     "height": 357
    },
    "colab_type": "code",
    "executionInfo": {
     "elapsed": 598,
     "status": "ok",
     "timestamp": 1589536265524,
     "user": {
      "displayName": "Тарас Квитко",
      "photoUrl": "https://lh3.googleusercontent.com/a-/AOh14GjLP9GfiNSLAREzD7OvwZMW6wO991secxbYHStB=s64",
      "userId": "17528970072518703139"
     },
     "user_tz": -180
    },
    "id": "zIQCD8u3gNgP",
    "outputId": "13d01464-8017-4c57-9eb7-6eaa63ecf48f"
   },
   "outputs": [
    {
     "data": {
      "text/plain": [
       "DistrictId         int64\n",
       "Rooms            float64\n",
       "Square           float64\n",
       "LifeSquare       float64\n",
       "KitchenSquare    float64\n",
       "Floor              int64\n",
       "HouseFloor       float64\n",
       "HouseYear          int64\n",
       "Ecology_1        float64\n",
       "Ecology_2          int64\n",
       "Ecology_3          int64\n",
       "Social_1           int64\n",
       "Social_2           int64\n",
       "Social_3           int64\n",
       "Healthcare_1     float64\n",
       "Helthcare_2        int64\n",
       "Shops_1            int64\n",
       "Shops_2            int64\n",
       "Price            float64\n",
       "dtype: object"
      ]
     },
     "execution_count": 36,
     "metadata": {
      "tags": []
     },
     "output_type": "execute_result"
    }
   ],
   "source": [
    "df.dtypes"
   ]
  },
  {
   "cell_type": "code",
   "execution_count": 0,
   "metadata": {
    "colab": {
     "base_uri": "https://localhost:8080/",
     "height": 638
    },
    "colab_type": "code",
    "executionInfo": {
     "elapsed": 685,
     "status": "ok",
     "timestamp": 1589536359117,
     "user": {
      "displayName": "Тарас Квитко",
      "photoUrl": "https://lh3.googleusercontent.com/a-/AOh14GjLP9GfiNSLAREzD7OvwZMW6wO991secxbYHStB=s64",
      "userId": "17528970072518703139"
     },
     "user_tz": -180
    },
    "id": "IXedpA84gR1G",
    "outputId": "7b0e10a4-eabb-42ce-9110-18d9ebd0ca78"
   },
   "outputs": [
    {
     "data": {
      "text/html": [
       "<div>\n",
       "<style scoped>\n",
       "    .dataframe tbody tr th:only-of-type {\n",
       "        vertical-align: middle;\n",
       "    }\n",
       "\n",
       "    .dataframe tbody tr th {\n",
       "        vertical-align: top;\n",
       "    }\n",
       "\n",
       "    .dataframe thead th {\n",
       "        text-align: right;\n",
       "    }\n",
       "</style>\n",
       "<table border=\"1\" class=\"dataframe\">\n",
       "  <thead>\n",
       "    <tr style=\"text-align: right;\">\n",
       "      <th></th>\n",
       "      <th>count</th>\n",
       "      <th>mean</th>\n",
       "      <th>std</th>\n",
       "      <th>min</th>\n",
       "      <th>25%</th>\n",
       "      <th>50%</th>\n",
       "      <th>75%</th>\n",
       "      <th>max</th>\n",
       "    </tr>\n",
       "  </thead>\n",
       "  <tbody>\n",
       "    <tr>\n",
       "      <th>DistrictId</th>\n",
       "      <td>10000.0</td>\n",
       "      <td>50.400800</td>\n",
       "      <td>43.587592</td>\n",
       "      <td>0.000000</td>\n",
       "      <td>20.000000</td>\n",
       "      <td>36.000000</td>\n",
       "      <td>75.000000</td>\n",
       "      <td>2.090000e+02</td>\n",
       "    </tr>\n",
       "    <tr>\n",
       "      <th>Rooms</th>\n",
       "      <td>10000.0</td>\n",
       "      <td>1.890500</td>\n",
       "      <td>0.839512</td>\n",
       "      <td>0.000000</td>\n",
       "      <td>1.000000</td>\n",
       "      <td>2.000000</td>\n",
       "      <td>2.000000</td>\n",
       "      <td>1.900000e+01</td>\n",
       "    </tr>\n",
       "    <tr>\n",
       "      <th>Square</th>\n",
       "      <td>10000.0</td>\n",
       "      <td>56.315775</td>\n",
       "      <td>21.058732</td>\n",
       "      <td>1.136859</td>\n",
       "      <td>41.774881</td>\n",
       "      <td>52.513310</td>\n",
       "      <td>65.900625</td>\n",
       "      <td>6.410652e+02</td>\n",
       "    </tr>\n",
       "    <tr>\n",
       "      <th>LifeSquare</th>\n",
       "      <td>7887.0</td>\n",
       "      <td>37.199645</td>\n",
       "      <td>86.241209</td>\n",
       "      <td>0.370619</td>\n",
       "      <td>22.769832</td>\n",
       "      <td>32.781260</td>\n",
       "      <td>45.128803</td>\n",
       "      <td>7.480592e+03</td>\n",
       "    </tr>\n",
       "    <tr>\n",
       "      <th>KitchenSquare</th>\n",
       "      <td>10000.0</td>\n",
       "      <td>6.273300</td>\n",
       "      <td>28.560917</td>\n",
       "      <td>0.000000</td>\n",
       "      <td>1.000000</td>\n",
       "      <td>6.000000</td>\n",
       "      <td>9.000000</td>\n",
       "      <td>2.014000e+03</td>\n",
       "    </tr>\n",
       "    <tr>\n",
       "      <th>Floor</th>\n",
       "      <td>10000.0</td>\n",
       "      <td>8.526700</td>\n",
       "      <td>5.241148</td>\n",
       "      <td>1.000000</td>\n",
       "      <td>4.000000</td>\n",
       "      <td>7.000000</td>\n",
       "      <td>12.000000</td>\n",
       "      <td>4.200000e+01</td>\n",
       "    </tr>\n",
       "    <tr>\n",
       "      <th>HouseFloor</th>\n",
       "      <td>10000.0</td>\n",
       "      <td>12.609400</td>\n",
       "      <td>6.775974</td>\n",
       "      <td>0.000000</td>\n",
       "      <td>9.000000</td>\n",
       "      <td>13.000000</td>\n",
       "      <td>17.000000</td>\n",
       "      <td>1.170000e+02</td>\n",
       "    </tr>\n",
       "    <tr>\n",
       "      <th>HouseYear</th>\n",
       "      <td>10000.0</td>\n",
       "      <td>3990.166300</td>\n",
       "      <td>200500.261427</td>\n",
       "      <td>1910.000000</td>\n",
       "      <td>1974.000000</td>\n",
       "      <td>1977.000000</td>\n",
       "      <td>2001.000000</td>\n",
       "      <td>2.005201e+07</td>\n",
       "    </tr>\n",
       "    <tr>\n",
       "      <th>Ecology_1</th>\n",
       "      <td>10000.0</td>\n",
       "      <td>0.118858</td>\n",
       "      <td>0.119025</td>\n",
       "      <td>0.000000</td>\n",
       "      <td>0.017647</td>\n",
       "      <td>0.075424</td>\n",
       "      <td>0.195781</td>\n",
       "      <td>5.218671e-01</td>\n",
       "    </tr>\n",
       "    <tr>\n",
       "      <th>Ecology_2</th>\n",
       "      <td>10000.0</td>\n",
       "      <td>0.990300</td>\n",
       "      <td>0.098015</td>\n",
       "      <td>0.000000</td>\n",
       "      <td>1.000000</td>\n",
       "      <td>1.000000</td>\n",
       "      <td>1.000000</td>\n",
       "      <td>1.000000e+00</td>\n",
       "    </tr>\n",
       "    <tr>\n",
       "      <th>Ecology_3</th>\n",
       "      <td>10000.0</td>\n",
       "      <td>0.972500</td>\n",
       "      <td>0.163543</td>\n",
       "      <td>0.000000</td>\n",
       "      <td>1.000000</td>\n",
       "      <td>1.000000</td>\n",
       "      <td>1.000000</td>\n",
       "      <td>1.000000e+00</td>\n",
       "    </tr>\n",
       "    <tr>\n",
       "      <th>Social_1</th>\n",
       "      <td>10000.0</td>\n",
       "      <td>24.687000</td>\n",
       "      <td>17.532614</td>\n",
       "      <td>0.000000</td>\n",
       "      <td>6.000000</td>\n",
       "      <td>25.000000</td>\n",
       "      <td>36.000000</td>\n",
       "      <td>7.400000e+01</td>\n",
       "    </tr>\n",
       "    <tr>\n",
       "      <th>Social_2</th>\n",
       "      <td>10000.0</td>\n",
       "      <td>5352.157400</td>\n",
       "      <td>4006.799803</td>\n",
       "      <td>168.000000</td>\n",
       "      <td>1564.000000</td>\n",
       "      <td>5285.000000</td>\n",
       "      <td>7227.000000</td>\n",
       "      <td>1.908300e+04</td>\n",
       "    </tr>\n",
       "    <tr>\n",
       "      <th>Social_3</th>\n",
       "      <td>10000.0</td>\n",
       "      <td>8.039200</td>\n",
       "      <td>23.831875</td>\n",
       "      <td>0.000000</td>\n",
       "      <td>0.000000</td>\n",
       "      <td>2.000000</td>\n",
       "      <td>5.000000</td>\n",
       "      <td>1.410000e+02</td>\n",
       "    </tr>\n",
       "    <tr>\n",
       "      <th>Healthcare_1</th>\n",
       "      <td>5202.0</td>\n",
       "      <td>1142.904460</td>\n",
       "      <td>1021.517264</td>\n",
       "      <td>0.000000</td>\n",
       "      <td>350.000000</td>\n",
       "      <td>900.000000</td>\n",
       "      <td>1548.000000</td>\n",
       "      <td>4.849000e+03</td>\n",
       "    </tr>\n",
       "    <tr>\n",
       "      <th>Helthcare_2</th>\n",
       "      <td>10000.0</td>\n",
       "      <td>1.319500</td>\n",
       "      <td>1.493601</td>\n",
       "      <td>0.000000</td>\n",
       "      <td>0.000000</td>\n",
       "      <td>1.000000</td>\n",
       "      <td>2.000000</td>\n",
       "      <td>6.000000e+00</td>\n",
       "    </tr>\n",
       "    <tr>\n",
       "      <th>Shops_1</th>\n",
       "      <td>10000.0</td>\n",
       "      <td>4.231300</td>\n",
       "      <td>4.806341</td>\n",
       "      <td>0.000000</td>\n",
       "      <td>1.000000</td>\n",
       "      <td>3.000000</td>\n",
       "      <td>6.000000</td>\n",
       "      <td>2.300000e+01</td>\n",
       "    </tr>\n",
       "    <tr>\n",
       "      <th>Shops_2</th>\n",
       "      <td>10000.0</td>\n",
       "      <td>0.917500</td>\n",
       "      <td>0.275139</td>\n",
       "      <td>0.000000</td>\n",
       "      <td>1.000000</td>\n",
       "      <td>1.000000</td>\n",
       "      <td>1.000000</td>\n",
       "      <td>1.000000e+00</td>\n",
       "    </tr>\n",
       "    <tr>\n",
       "      <th>Price</th>\n",
       "      <td>10000.0</td>\n",
       "      <td>214138.857399</td>\n",
       "      <td>92872.293865</td>\n",
       "      <td>59174.778028</td>\n",
       "      <td>153872.633942</td>\n",
       "      <td>192269.644879</td>\n",
       "      <td>249135.462171</td>\n",
       "      <td>6.332335e+05</td>\n",
       "    </tr>\n",
       "  </tbody>\n",
       "</table>\n",
       "</div>"
      ],
      "text/plain": [
       "                 count           mean  ...            75%           max\n",
       "DistrictId     10000.0      50.400800  ...      75.000000  2.090000e+02\n",
       "Rooms          10000.0       1.890500  ...       2.000000  1.900000e+01\n",
       "Square         10000.0      56.315775  ...      65.900625  6.410652e+02\n",
       "LifeSquare      7887.0      37.199645  ...      45.128803  7.480592e+03\n",
       "KitchenSquare  10000.0       6.273300  ...       9.000000  2.014000e+03\n",
       "Floor          10000.0       8.526700  ...      12.000000  4.200000e+01\n",
       "HouseFloor     10000.0      12.609400  ...      17.000000  1.170000e+02\n",
       "HouseYear      10000.0    3990.166300  ...    2001.000000  2.005201e+07\n",
       "Ecology_1      10000.0       0.118858  ...       0.195781  5.218671e-01\n",
       "Ecology_2      10000.0       0.990300  ...       1.000000  1.000000e+00\n",
       "Ecology_3      10000.0       0.972500  ...       1.000000  1.000000e+00\n",
       "Social_1       10000.0      24.687000  ...      36.000000  7.400000e+01\n",
       "Social_2       10000.0    5352.157400  ...    7227.000000  1.908300e+04\n",
       "Social_3       10000.0       8.039200  ...       5.000000  1.410000e+02\n",
       "Healthcare_1    5202.0    1142.904460  ...    1548.000000  4.849000e+03\n",
       "Helthcare_2    10000.0       1.319500  ...       2.000000  6.000000e+00\n",
       "Shops_1        10000.0       4.231300  ...       6.000000  2.300000e+01\n",
       "Shops_2        10000.0       0.917500  ...       1.000000  1.000000e+00\n",
       "Price          10000.0  214138.857399  ...  249135.462171  6.332335e+05\n",
       "\n",
       "[19 rows x 8 columns]"
      ]
     },
     "execution_count": 42,
     "metadata": {
      "tags": []
     },
     "output_type": "execute_result"
    }
   ],
   "source": [
    "df.describe().T"
   ]
  },
  {
   "cell_type": "markdown",
   "metadata": {
    "colab_type": "text",
    "id": "i9v5WQ6GBCS7"
   },
   "source": [
    "*Разберемся с объектами*"
   ]
  },
  {
   "cell_type": "code",
   "execution_count": 0,
   "metadata": {
    "colab": {},
    "colab_type": "code",
    "id": "o7hhfu_6ijVn"
   },
   "outputs": [],
   "source": [
    "df.describe(include='object')"
   ]
  },
  {
   "cell_type": "code",
   "execution_count": 0,
   "metadata": {
    "colab": {
     "base_uri": "https://localhost:8080/",
     "height": 68
    },
    "colab_type": "code",
    "executionInfo": {
     "elapsed": 610,
     "status": "ok",
     "timestamp": 1589536326451,
     "user": {
      "displayName": "Тарас Квитко",
      "photoUrl": "https://lh3.googleusercontent.com/a-/AOh14GjLP9GfiNSLAREzD7OvwZMW6wO991secxbYHStB=s64",
      "userId": "17528970072518703139"
     },
     "user_tz": -180
    },
    "id": "zd8LX2PCiroM",
    "outputId": "9b99589e-55fa-418b-dec7-566428db0289"
   },
   "outputs": [
    {
     "data": {
      "text/plain": [
       "1    9903\n",
       "0      97\n",
       "Name: Ecology_2, dtype: int64"
      ]
     },
     "execution_count": 39,
     "metadata": {
      "tags": []
     },
     "output_type": "execute_result"
    }
   ],
   "source": [
    "df['Ecology_2'].value_counts()"
   ]
  },
  {
   "cell_type": "code",
   "execution_count": 0,
   "metadata": {
    "colab": {
     "base_uri": "https://localhost:8080/",
     "height": 68
    },
    "colab_type": "code",
    "executionInfo": {
     "elapsed": 616,
     "status": "ok",
     "timestamp": 1589536329025,
     "user": {
      "displayName": "Тарас Квитко",
      "photoUrl": "https://lh3.googleusercontent.com/a-/AOh14GjLP9GfiNSLAREzD7OvwZMW6wO991secxbYHStB=s64",
      "userId": "17528970072518703139"
     },
     "user_tz": -180
    },
    "id": "4CJoBBAlixDP",
    "outputId": "0b7bd8ea-40d9-4d9e-e884-fa95181cd836"
   },
   "outputs": [
    {
     "data": {
      "text/plain": [
       "1    9725\n",
       "0     275\n",
       "Name: Ecology_3, dtype: int64"
      ]
     },
     "execution_count": 40,
     "metadata": {
      "tags": []
     },
     "output_type": "execute_result"
    }
   ],
   "source": [
    "df['Ecology_3'].value_counts()"
   ]
  },
  {
   "cell_type": "code",
   "execution_count": 0,
   "metadata": {
    "colab": {
     "base_uri": "https://localhost:8080/",
     "height": 68
    },
    "colab_type": "code",
    "executionInfo": {
     "elapsed": 614,
     "status": "ok",
     "timestamp": 1589536331479,
     "user": {
      "displayName": "Тарас Квитко",
      "photoUrl": "https://lh3.googleusercontent.com/a-/AOh14GjLP9GfiNSLAREzD7OvwZMW6wO991secxbYHStB=s64",
      "userId": "17528970072518703139"
     },
     "user_tz": -180
    },
    "id": "8MoMj8OGizgg",
    "outputId": "6ab2678b-8930-4919-fd12-64c2922b44f4"
   },
   "outputs": [
    {
     "data": {
      "text/plain": [
       "1    9175\n",
       "0     825\n",
       "Name: Shops_2, dtype: int64"
      ]
     },
     "execution_count": 41,
     "metadata": {
      "tags": []
     },
     "output_type": "execute_result"
    }
   ],
   "source": [
    "df['Shops_2'].value_counts()"
   ]
  },
  {
   "cell_type": "markdown",
   "metadata": {
    "colab_type": "text",
    "id": "gXfKprAan7Ue"
   },
   "source": [
    "По-скольку значения всех трех стобцов с object бинарные (A и B), не вижу смысла разносить их на новые отдельные столбцы. Достаточно просто заменить A,B на 0,1 ."
   ]
  },
  {
   "cell_type": "code",
   "execution_count": 0,
   "metadata": {
    "colab": {},
    "colab_type": "code",
    "id": "uem_pWKWoJTf"
   },
   "outputs": [],
   "source": [
    "df.loc[df['Shops_2'] == 'A', 'Shops_2'] = 0\n",
    "df.loc[df['Shops_2'] == 'B', 'Shops_2'] = 1\n",
    "df.loc[df['Ecology_2'] == 'A', 'Ecology_2'] = 0\n",
    "df.loc[df['Ecology_2'] == 'B', 'Ecology_2'] = 1\n",
    "df.loc[df['Ecology_3'] == 'A', 'Ecology_3'] = 0\n",
    "df.loc[df['Ecology_3'] == 'B', 'Ecology_3'] = 1\n"
   ]
  },
  {
   "cell_type": "code",
   "execution_count": 0,
   "metadata": {
    "colab": {},
    "colab_type": "code",
    "id": "AFSVuz4cuBkC"
   },
   "outputs": [],
   "source": [
    "df['Shops_2'] = pd.to_numeric(df['Shops_2'])\n",
    "df['Ecology_2'] = pd.to_numeric(df['Ecology_2'])\n",
    "df['Ecology_3'] = pd.to_numeric(df['Ecology_3'])"
   ]
  },
  {
   "cell_type": "code",
   "execution_count": 0,
   "metadata": {
    "colab": {
     "base_uri": "https://localhost:8080/",
     "height": 638
    },
    "colab_type": "code",
    "executionInfo": {
     "elapsed": 616,
     "status": "ok",
     "timestamp": 1589540876346,
     "user": {
      "displayName": "Тарас Квитко",
      "photoUrl": "https://lh3.googleusercontent.com/a-/AOh14GjLP9GfiNSLAREzD7OvwZMW6wO991secxbYHStB=s64",
      "userId": "17528970072518703139"
     },
     "user_tz": -180
    },
    "id": "_H2Va9SyBOXS",
    "outputId": "75c2426c-739a-45fd-dab1-b51da84b68e5"
   },
   "outputs": [
    {
     "data": {
      "text/html": [
       "<div>\n",
       "<style scoped>\n",
       "    .dataframe tbody tr th:only-of-type {\n",
       "        vertical-align: middle;\n",
       "    }\n",
       "\n",
       "    .dataframe tbody tr th {\n",
       "        vertical-align: top;\n",
       "    }\n",
       "\n",
       "    .dataframe thead th {\n",
       "        text-align: right;\n",
       "    }\n",
       "</style>\n",
       "<table border=\"1\" class=\"dataframe\">\n",
       "  <thead>\n",
       "    <tr style=\"text-align: right;\">\n",
       "      <th></th>\n",
       "      <th>count</th>\n",
       "      <th>mean</th>\n",
       "      <th>std</th>\n",
       "      <th>min</th>\n",
       "      <th>25%</th>\n",
       "      <th>50%</th>\n",
       "      <th>75%</th>\n",
       "      <th>max</th>\n",
       "    </tr>\n",
       "  </thead>\n",
       "  <tbody>\n",
       "    <tr>\n",
       "      <th>DistrictId</th>\n",
       "      <td>9988.0</td>\n",
       "      <td>50.419003</td>\n",
       "      <td>43.598629</td>\n",
       "      <td>0.000000</td>\n",
       "      <td>20.000000</td>\n",
       "      <td>36.000000</td>\n",
       "      <td>75.000000</td>\n",
       "      <td>2.090000e+02</td>\n",
       "    </tr>\n",
       "    <tr>\n",
       "      <th>Rooms</th>\n",
       "      <td>9988.0</td>\n",
       "      <td>1.888266</td>\n",
       "      <td>0.811534</td>\n",
       "      <td>1.000000</td>\n",
       "      <td>1.000000</td>\n",
       "      <td>2.000000</td>\n",
       "      <td>2.000000</td>\n",
       "      <td>5.000000e+00</td>\n",
       "    </tr>\n",
       "    <tr>\n",
       "      <th>Square</th>\n",
       "      <td>9988.0</td>\n",
       "      <td>56.295899</td>\n",
       "      <td>20.984196</td>\n",
       "      <td>1.136859</td>\n",
       "      <td>41.773051</td>\n",
       "      <td>52.509275</td>\n",
       "      <td>65.894295</td>\n",
       "      <td>6.410652e+02</td>\n",
       "    </tr>\n",
       "    <tr>\n",
       "      <th>LifeSquare</th>\n",
       "      <td>7878.0</td>\n",
       "      <td>37.167515</td>\n",
       "      <td>86.257886</td>\n",
       "      <td>0.370619</td>\n",
       "      <td>22.772654</td>\n",
       "      <td>32.769898</td>\n",
       "      <td>45.126159</td>\n",
       "      <td>7.480592e+03</td>\n",
       "    </tr>\n",
       "    <tr>\n",
       "      <th>KitchenSquare</th>\n",
       "      <td>9988.0</td>\n",
       "      <td>6.276632</td>\n",
       "      <td>28.577525</td>\n",
       "      <td>0.000000</td>\n",
       "      <td>1.000000</td>\n",
       "      <td>6.000000</td>\n",
       "      <td>9.000000</td>\n",
       "      <td>2.014000e+03</td>\n",
       "    </tr>\n",
       "    <tr>\n",
       "      <th>Floor</th>\n",
       "      <td>9988.0</td>\n",
       "      <td>8.526632</td>\n",
       "      <td>5.239378</td>\n",
       "      <td>1.000000</td>\n",
       "      <td>4.000000</td>\n",
       "      <td>7.000000</td>\n",
       "      <td>12.000000</td>\n",
       "      <td>4.200000e+01</td>\n",
       "    </tr>\n",
       "    <tr>\n",
       "      <th>HouseFloor</th>\n",
       "      <td>9988.0</td>\n",
       "      <td>12.615839</td>\n",
       "      <td>6.772128</td>\n",
       "      <td>0.000000</td>\n",
       "      <td>9.000000</td>\n",
       "      <td>13.000000</td>\n",
       "      <td>17.000000</td>\n",
       "      <td>1.170000e+02</td>\n",
       "    </tr>\n",
       "    <tr>\n",
       "      <th>HouseYear</th>\n",
       "      <td>9988.0</td>\n",
       "      <td>3992.566580</td>\n",
       "      <td>200620.670048</td>\n",
       "      <td>1910.000000</td>\n",
       "      <td>1974.000000</td>\n",
       "      <td>1977.000000</td>\n",
       "      <td>2001.000000</td>\n",
       "      <td>2.005201e+07</td>\n",
       "    </tr>\n",
       "    <tr>\n",
       "      <th>Ecology_1</th>\n",
       "      <td>9988.0</td>\n",
       "      <td>0.118849</td>\n",
       "      <td>0.119065</td>\n",
       "      <td>0.000000</td>\n",
       "      <td>0.017647</td>\n",
       "      <td>0.075424</td>\n",
       "      <td>0.195781</td>\n",
       "      <td>5.218671e-01</td>\n",
       "    </tr>\n",
       "    <tr>\n",
       "      <th>Ecology_2</th>\n",
       "      <td>9988.0</td>\n",
       "      <td>0.990288</td>\n",
       "      <td>0.098073</td>\n",
       "      <td>0.000000</td>\n",
       "      <td>1.000000</td>\n",
       "      <td>1.000000</td>\n",
       "      <td>1.000000</td>\n",
       "      <td>1.000000e+00</td>\n",
       "    </tr>\n",
       "    <tr>\n",
       "      <th>Ecology_3</th>\n",
       "      <td>9988.0</td>\n",
       "      <td>0.972467</td>\n",
       "      <td>0.163639</td>\n",
       "      <td>0.000000</td>\n",
       "      <td>1.000000</td>\n",
       "      <td>1.000000</td>\n",
       "      <td>1.000000</td>\n",
       "      <td>1.000000e+00</td>\n",
       "    </tr>\n",
       "    <tr>\n",
       "      <th>Social_1</th>\n",
       "      <td>9988.0</td>\n",
       "      <td>24.688226</td>\n",
       "      <td>17.523467</td>\n",
       "      <td>0.000000</td>\n",
       "      <td>6.000000</td>\n",
       "      <td>25.000000</td>\n",
       "      <td>36.000000</td>\n",
       "      <td>7.400000e+01</td>\n",
       "    </tr>\n",
       "    <tr>\n",
       "      <th>Social_2</th>\n",
       "      <td>9988.0</td>\n",
       "      <td>5352.479375</td>\n",
       "      <td>4005.068683</td>\n",
       "      <td>168.000000</td>\n",
       "      <td>1564.000000</td>\n",
       "      <td>5285.000000</td>\n",
       "      <td>7227.000000</td>\n",
       "      <td>1.908300e+04</td>\n",
       "    </tr>\n",
       "    <tr>\n",
       "      <th>Social_3</th>\n",
       "      <td>9988.0</td>\n",
       "      <td>8.048058</td>\n",
       "      <td>23.844795</td>\n",
       "      <td>0.000000</td>\n",
       "      <td>0.000000</td>\n",
       "      <td>2.000000</td>\n",
       "      <td>5.000000</td>\n",
       "      <td>1.410000e+02</td>\n",
       "    </tr>\n",
       "    <tr>\n",
       "      <th>Healthcare_1</th>\n",
       "      <td>5198.0</td>\n",
       "      <td>1143.192382</td>\n",
       "      <td>1021.756255</td>\n",
       "      <td>0.000000</td>\n",
       "      <td>350.000000</td>\n",
       "      <td>900.000000</td>\n",
       "      <td>1548.000000</td>\n",
       "      <td>4.849000e+03</td>\n",
       "    </tr>\n",
       "    <tr>\n",
       "      <th>Helthcare_2</th>\n",
       "      <td>9988.0</td>\n",
       "      <td>1.319684</td>\n",
       "      <td>1.493427</td>\n",
       "      <td>0.000000</td>\n",
       "      <td>0.000000</td>\n",
       "      <td>1.000000</td>\n",
       "      <td>2.000000</td>\n",
       "      <td>6.000000e+00</td>\n",
       "    </tr>\n",
       "    <tr>\n",
       "      <th>Shops_1</th>\n",
       "      <td>9988.0</td>\n",
       "      <td>4.232379</td>\n",
       "      <td>4.806454</td>\n",
       "      <td>0.000000</td>\n",
       "      <td>1.000000</td>\n",
       "      <td>3.000000</td>\n",
       "      <td>6.000000</td>\n",
       "      <td>2.300000e+01</td>\n",
       "    </tr>\n",
       "    <tr>\n",
       "      <th>Shops_2</th>\n",
       "      <td>9988.0</td>\n",
       "      <td>0.917401</td>\n",
       "      <td>0.275289</td>\n",
       "      <td>0.000000</td>\n",
       "      <td>1.000000</td>\n",
       "      <td>1.000000</td>\n",
       "      <td>1.000000</td>\n",
       "      <td>1.000000e+00</td>\n",
       "    </tr>\n",
       "    <tr>\n",
       "      <th>Price</th>\n",
       "      <td>9988.0</td>\n",
       "      <td>214155.733452</td>\n",
       "      <td>92892.529960</td>\n",
       "      <td>59174.778028</td>\n",
       "      <td>153872.633942</td>\n",
       "      <td>192255.017896</td>\n",
       "      <td>249135.462171</td>\n",
       "      <td>6.332335e+05</td>\n",
       "    </tr>\n",
       "  </tbody>\n",
       "</table>\n",
       "</div>"
      ],
      "text/plain": [
       "                count           mean  ...            75%           max\n",
       "DistrictId     9988.0      50.419003  ...      75.000000  2.090000e+02\n",
       "Rooms          9988.0       1.888266  ...       2.000000  5.000000e+00\n",
       "Square         9988.0      56.295899  ...      65.894295  6.410652e+02\n",
       "LifeSquare     7878.0      37.167515  ...      45.126159  7.480592e+03\n",
       "KitchenSquare  9988.0       6.276632  ...       9.000000  2.014000e+03\n",
       "Floor          9988.0       8.526632  ...      12.000000  4.200000e+01\n",
       "HouseFloor     9988.0      12.615839  ...      17.000000  1.170000e+02\n",
       "HouseYear      9988.0    3992.566580  ...    2001.000000  2.005201e+07\n",
       "Ecology_1      9988.0       0.118849  ...       0.195781  5.218671e-01\n",
       "Ecology_2      9988.0       0.990288  ...       1.000000  1.000000e+00\n",
       "Ecology_3      9988.0       0.972467  ...       1.000000  1.000000e+00\n",
       "Social_1       9988.0      24.688226  ...      36.000000  7.400000e+01\n",
       "Social_2       9988.0    5352.479375  ...    7227.000000  1.908300e+04\n",
       "Social_3       9988.0       8.048058  ...       5.000000  1.410000e+02\n",
       "Healthcare_1   5198.0    1143.192382  ...    1548.000000  4.849000e+03\n",
       "Helthcare_2    9988.0       1.319684  ...       2.000000  6.000000e+00\n",
       "Shops_1        9988.0       4.232379  ...       6.000000  2.300000e+01\n",
       "Shops_2        9988.0       0.917401  ...       1.000000  1.000000e+00\n",
       "Price          9988.0  214155.733452  ...  249135.462171  6.332335e+05\n",
       "\n",
       "[19 rows x 8 columns]"
      ]
     },
     "execution_count": 68,
     "metadata": {
      "tags": []
     },
     "output_type": "execute_result"
    }
   ],
   "source": [
    "df.describe().T"
   ]
  },
  {
   "cell_type": "code",
   "execution_count": 0,
   "metadata": {
    "colab": {
     "base_uri": "https://localhost:8080/",
     "height": 80
    },
    "colab_type": "code",
    "executionInfo": {
     "elapsed": 1251,
     "status": "ok",
     "timestamp": 1589542359318,
     "user": {
      "displayName": "Тарас Квитко",
      "photoUrl": "https://lh3.googleusercontent.com/a-/AOh14GjLP9GfiNSLAREzD7OvwZMW6wO991secxbYHStB=s64",
      "userId": "17528970072518703139"
     },
     "user_tz": -180
    },
    "id": "58eGUMs86pkb",
    "outputId": "a2467a1d-704d-4f8f-c9ed-07cbe7b00a26"
   },
   "outputs": [
    {
     "data": {
      "text/html": [
       "<div>\n",
       "<style scoped>\n",
       "    .dataframe tbody tr th:only-of-type {\n",
       "        vertical-align: middle;\n",
       "    }\n",
       "\n",
       "    .dataframe tbody tr th {\n",
       "        vertical-align: top;\n",
       "    }\n",
       "\n",
       "    .dataframe thead th {\n",
       "        text-align: right;\n",
       "    }\n",
       "</style>\n",
       "<table border=\"1\" class=\"dataframe\">\n",
       "  <thead>\n",
       "    <tr style=\"text-align: right;\">\n",
       "      <th></th>\n",
       "      <th>DistrictId</th>\n",
       "      <th>Rooms</th>\n",
       "      <th>Square</th>\n",
       "      <th>LifeSquare</th>\n",
       "      <th>KitchenSquare</th>\n",
       "      <th>Floor</th>\n",
       "      <th>HouseFloor</th>\n",
       "      <th>HouseYear</th>\n",
       "      <th>Ecology_1</th>\n",
       "      <th>Ecology_2</th>\n",
       "      <th>Ecology_3</th>\n",
       "      <th>Social_1</th>\n",
       "      <th>Social_2</th>\n",
       "      <th>Social_3</th>\n",
       "      <th>Healthcare_1</th>\n",
       "      <th>Helthcare_2</th>\n",
       "      <th>Shops_1</th>\n",
       "      <th>Shops_2</th>\n",
       "      <th>Price</th>\n",
       "      <th>Full_to_Life</th>\n",
       "    </tr>\n",
       "    <tr>\n",
       "      <th>Id</th>\n",
       "      <th></th>\n",
       "      <th></th>\n",
       "      <th></th>\n",
       "      <th></th>\n",
       "      <th></th>\n",
       "      <th></th>\n",
       "      <th></th>\n",
       "      <th></th>\n",
       "      <th></th>\n",
       "      <th></th>\n",
       "      <th></th>\n",
       "      <th></th>\n",
       "      <th></th>\n",
       "      <th></th>\n",
       "      <th></th>\n",
       "      <th></th>\n",
       "      <th></th>\n",
       "      <th></th>\n",
       "      <th></th>\n",
       "      <th></th>\n",
       "    </tr>\n",
       "  </thead>\n",
       "  <tbody>\n",
       "  </tbody>\n",
       "</table>\n",
       "</div>"
      ],
      "text/plain": [
       "Empty DataFrame\n",
       "Columns: [DistrictId, Rooms, Square, LifeSquare, KitchenSquare, Floor, HouseFloor, HouseYear, Ecology_1, Ecology_2, Ecology_3, Social_1, Social_2, Social_3, Healthcare_1, Helthcare_2, Shops_1, Shops_2, Price, Full_to_Life]\n",
       "Index: []"
      ]
     },
     "execution_count": 82,
     "metadata": {
      "tags": []
     },
     "output_type": "execute_result"
    }
   ],
   "source": [
    "df[(df['Rooms'] > 5) | (df['Rooms'] < 1)]"
   ]
  },
  {
   "cell_type": "markdown",
   "metadata": {
    "colab_type": "text",
    "id": "XgMAqTQT6Oc1"
   },
   "source": [
    "Обнаружено, что у 12 квартир количество комнат 0 или больше 5. При этом по площади неясно, сколько насамом деле в них комнат. Исключим эти данные.\n"
   ]
  },
  {
   "cell_type": "code",
   "execution_count": 0,
   "metadata": {
    "colab": {
     "base_uri": "https://localhost:8080/",
     "height": 34
    },
    "colab_type": "code",
    "executionInfo": {
     "elapsed": 668,
     "status": "ok",
     "timestamp": 1589540378426,
     "user": {
      "displayName": "Тарас Квитко",
      "photoUrl": "https://lh3.googleusercontent.com/a-/AOh14GjLP9GfiNSLAREzD7OvwZMW6wO991secxbYHStB=s64",
      "userId": "17528970072518703139"
     },
     "user_tz": -180
    },
    "id": "2rtHGsN5-0Em",
    "outputId": "53473e8a-b2ab-428c-9796-7894b0766f68"
   },
   "outputs": [
    {
     "data": {
      "text/plain": [
       "(9988, 19)"
      ]
     },
     "execution_count": 66,
     "metadata": {
      "tags": []
     },
     "output_type": "execute_result"
    }
   ],
   "source": [
    "df.drop(df[(df['Rooms'] > 5) | (df['Rooms'] < 1)].index, inplace=True)\n",
    "df.shape"
   ]
  },
  {
   "cell_type": "code",
   "execution_count": 0,
   "metadata": {
    "colab": {
     "base_uri": "https://localhost:8080/",
     "height": 357
    },
    "colab_type": "code",
    "executionInfo": {
     "elapsed": 732,
     "status": "ok",
     "timestamp": 1589541429001,
     "user": {
      "displayName": "Тарас Квитко",
      "photoUrl": "https://lh3.googleusercontent.com/a-/AOh14GjLP9GfiNSLAREzD7OvwZMW6wO991secxbYHStB=s64",
      "userId": "17528970072518703139"
     },
     "user_tz": -180
    },
    "id": "d9Ytm_VpDS0q",
    "outputId": "d74b2895-6967-47ec-c1db-d18110642334"
   },
   "outputs": [
    {
     "data": {
      "text/plain": [
       "Ecology_1       -0.058536\n",
       "Ecology_3       -0.052576\n",
       "HouseYear        0.004305\n",
       "Ecology_2        0.022406\n",
       "KitchenSquare    0.028864\n",
       "Shops_2          0.070473\n",
       "Social_3         0.074849\n",
       "LifeSquare       0.080971\n",
       "HouseFloor       0.088136\n",
       "Floor            0.128937\n",
       "Healthcare_1     0.138646\n",
       "Shops_1          0.180699\n",
       "Social_2         0.238919\n",
       "Helthcare_2      0.252980\n",
       "Social_1         0.263094\n",
       "DistrictId       0.265069\n",
       "Square           0.521006\n",
       "Rooms            0.571888\n",
       "Price            1.000000\n",
       "Name: Price, dtype: float64"
      ]
     },
     "execution_count": 75,
     "metadata": {
      "tags": []
     },
     "output_type": "execute_result"
    }
   ],
   "source": [
    "df.corr()['Price'].sort_values()"
   ]
  },
  {
   "cell_type": "markdown",
   "metadata": {
    "colab_type": "text",
    "id": "FbtGWSsUESp7"
   },
   "source": [
    "LifeSquare не сильно влияет на Price, но у многих данных оно не заполнено.\n",
    "Проверим, станет ли влиять сильнее, если его запонить.\n",
    "Вычислим отношение Square/LifeSquare у известных данных, возьмем медиану и применим ее, чтобы найти неизвестные LifeSquare"
   ]
  },
  {
   "cell_type": "code",
   "execution_count": 0,
   "metadata": {
    "colab": {},
    "colab_type": "code",
    "id": "Xp1bt2zjExEH"
   },
   "outputs": [],
   "source": [
    "df['Full_to_Life'] = df['Square'] / df['LifeSquare']"
   ]
  },
  {
   "cell_type": "code",
   "execution_count": 0,
   "metadata": {
    "colab": {
     "base_uri": "https://localhost:8080/",
     "height": 170
    },
    "colab_type": "code",
    "executionInfo": {
     "elapsed": 625,
     "status": "ok",
     "timestamp": 1589541905374,
     "user": {
      "displayName": "Тарас Квитко",
      "photoUrl": "https://lh3.googleusercontent.com/a-/AOh14GjLP9GfiNSLAREzD7OvwZMW6wO991secxbYHStB=s64",
      "userId": "17528970072518703139"
     },
     "user_tz": -180
    },
    "id": "bWZGGhcOFCdk",
    "outputId": "f96a729c-6b73-4c22-b4e3-2739f487e7ec"
   },
   "outputs": [
    {
     "data": {
      "text/plain": [
       "count    7878.000000\n",
       "mean        2.126100\n",
       "std         4.476731\n",
       "min         0.010921\n",
       "25%         1.435224\n",
       "50%         1.619435\n",
       "75%         1.797652\n",
       "max       166.648780\n",
       "Name: Full_to_Life, dtype: float64"
      ]
     },
     "execution_count": 77,
     "metadata": {
      "tags": []
     },
     "output_type": "execute_result"
    }
   ],
   "source": [
    "df['Full_to_Life'].describe()"
   ]
  },
  {
   "cell_type": "markdown",
   "metadata": {
    "colab_type": "text",
    "id": "3aQIjP-wFXnD"
   },
   "source": [
    "Медиана получилась 1.619435. Применим ее."
   ]
  },
  {
   "cell_type": "code",
   "execution_count": 0,
   "metadata": {
    "colab": {},
    "colab_type": "code",
    "id": "QVZVOx3-Fuh2"
   },
   "outputs": [],
   "source": [
    "df['LifeSquare'].fillna((df['Square'] / df['Full_to_Life'].median()), inplace=True)"
   ]
  },
  {
   "cell_type": "code",
   "execution_count": 0,
   "metadata": {
    "colab": {
     "base_uri": "https://localhost:8080/",
     "height": 374
    },
    "colab_type": "code",
    "executionInfo": {
     "elapsed": 617,
     "status": "ok",
     "timestamp": 1589542251181,
     "user": {
      "displayName": "Тарас Квитко",
      "photoUrl": "https://lh3.googleusercontent.com/a-/AOh14GjLP9GfiNSLAREzD7OvwZMW6wO991secxbYHStB=s64",
      "userId": "17528970072518703139"
     },
     "user_tz": -180
    },
    "id": "2QKWKLhQGd9h",
    "outputId": "d6c19cd8-9004-4c4e-f066-dbe6cff7b9d3"
   },
   "outputs": [
    {
     "data": {
      "text/plain": [
       "Ecology_1       -0.058536\n",
       "Ecology_3       -0.052576\n",
       "Full_to_Life    -0.009417\n",
       "HouseYear        0.004305\n",
       "Ecology_2        0.022406\n",
       "KitchenSquare    0.028864\n",
       "Shops_2          0.070473\n",
       "Social_3         0.074849\n",
       "HouseFloor       0.088136\n",
       "LifeSquare       0.090930\n",
       "Floor            0.128937\n",
       "Healthcare_1     0.138646\n",
       "Shops_1          0.180699\n",
       "Social_2         0.238919\n",
       "Helthcare_2      0.252980\n",
       "Social_1         0.263094\n",
       "DistrictId       0.265069\n",
       "Square           0.521006\n",
       "Rooms            0.571888\n",
       "Price            1.000000\n",
       "Name: Price, dtype: float64"
      ]
     },
     "execution_count": 81,
     "metadata": {
      "tags": []
     },
     "output_type": "execute_result"
    }
   ],
   "source": [
    "df.corr()['Price'].sort_values()"
   ]
  },
  {
   "cell_type": "markdown",
   "metadata": {
    "colab_type": "text",
    "id": "TeTFVTV5Gl1s"
   },
   "source": [
    "Теперь LifeSquare стало кореллировать с Price сильнее (0.9 вместо 0.8). Учтем его в модели."
   ]
  },
  {
   "cell_type": "markdown",
   "metadata": {
    "colab_type": "text",
    "id": "K1frXyu1HNHl"
   },
   "source": [
    "Healthcare_1 сильно влияет на Price, но у многих он не заполнен.\n",
    "Посмотрим, что влияет на него."
   ]
  },
  {
   "cell_type": "code",
   "execution_count": 0,
   "metadata": {
    "colab": {
     "base_uri": "https://localhost:8080/",
     "height": 374
    },
    "colab_type": "code",
    "executionInfo": {
     "elapsed": 1129,
     "status": "ok",
     "timestamp": 1589542512306,
     "user": {
      "displayName": "Тарас Квитко",
      "photoUrl": "https://lh3.googleusercontent.com/a-/AOh14GjLP9GfiNSLAREzD7OvwZMW6wO991secxbYHStB=s64",
      "userId": "17528970072518703139"
     },
     "user_tz": -180
    },
    "id": "hV5n6Z5jHaWD",
    "outputId": "b60ce5a4-47b4-4b21-9b98-0ebf9968d706"
   },
   "outputs": [
    {
     "data": {
      "text/plain": [
       "HouseFloor      -0.144646\n",
       "Floor           -0.138680\n",
       "Ecology_3       -0.114668\n",
       "Full_to_Life    -0.066555\n",
       "Ecology_1       -0.043416\n",
       "Square          -0.039582\n",
       "Ecology_2       -0.031690\n",
       "Shops_2         -0.031039\n",
       "LifeSquare      -0.026580\n",
       "HouseYear       -0.011975\n",
       "KitchenSquare    0.009474\n",
       "Rooms            0.045094\n",
       "Social_2         0.050229\n",
       "Shops_1          0.057615\n",
       "Social_1         0.076879\n",
       "Social_3         0.133794\n",
       "Price            0.138646\n",
       "Helthcare_2      0.203108\n",
       "DistrictId       0.304115\n",
       "Healthcare_1     1.000000\n",
       "Name: Healthcare_1, dtype: float64"
      ]
     },
     "execution_count": 83,
     "metadata": {
      "tags": []
     },
     "output_type": "execute_result"
    }
   ],
   "source": [
    "df.corr()['Healthcare_1'].sort_values()"
   ]
  },
  {
   "cell_type": "code",
   "execution_count": 0,
   "metadata": {
    "colab": {},
    "colab_type": "code",
    "id": "ZqaLLZ6ZJ1Pq"
   },
   "outputs": [],
   "source": [
    "df.to_csv('cource_temp_1.csv') \n",
    "files.download('cource_temp_1.csv')"
   ]
  }
 ],
 "metadata": {
  "colab": {
   "authorship_tag": "ABX9TyN6MmrYd9qEd93uKn2qloOX",
   "collapsed_sections": [],
   "name": "Tkvitko_course_project.ipynb",
   "provenance": []
  },
  "kernelspec": {
   "display_name": "Python 3",
   "language": "python",
   "name": "python3"
  },
  "language_info": {
   "codemirror_mode": {
    "name": "ipython",
    "version": 3
   },
   "file_extension": ".py",
   "mimetype": "text/x-python",
   "name": "python",
   "nbconvert_exporter": "python",
   "pygments_lexer": "ipython3",
   "version": "3.7.6"
  }
 },
 "nbformat": 4,
 "nbformat_minor": 1
}
